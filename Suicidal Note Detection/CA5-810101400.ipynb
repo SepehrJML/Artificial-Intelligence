{
  "cells": [
    {
      "cell_type": "markdown",
      "source": [
        "Sepehr Jamali 810101400"
      ],
      "metadata": {
        "id": "jqzezMMZWc5u"
      },
      "id": "jqzezMMZWc5u"
    },
    {
      "cell_type": "markdown",
      "source": [
        "# Setup environment"
      ],
      "metadata": {
        "id": "4X9525D7wlHW"
      },
      "id": "4X9525D7wlHW"
    },
    {
      "cell_type": "code",
      "execution_count": 1,
      "metadata": {
        "id": "wU3sQtA5wlHW"
      },
      "outputs": [],
      "source": [
        "!pip install gensim emoji nltk tqdm seaborn torch torchsummary -q"
      ],
      "id": "wU3sQtA5wlHW"
    },
    {
      "cell_type": "code",
      "source": [
        "from google.colab import drive\n",
        "drive.mount('/content/drive')"
      ],
      "metadata": {
        "colab": {
          "base_uri": "https://localhost:8080/"
        },
        "outputId": "37a526e8-d3b9-4f5a-e149-f64a6344c669",
        "id": "vN5im8tDwlHW"
      },
      "execution_count": 2,
      "outputs": [
        {
          "output_type": "stream",
          "name": "stdout",
          "text": [
            "Drive already mounted at /content/drive; to attempt to forcibly remount, call drive.mount(\"/content/drive\", force_remount=True).\n"
          ]
        }
      ],
      "id": "vN5im8tDwlHW"
    },
    {
      "cell_type": "code",
      "execution_count": 3,
      "metadata": {
        "collapsed": true,
        "id": "hhfzl2OewlHX"
      },
      "outputs": [],
      "source": [
        "import pandas as pd\n",
        "import torch\n",
        "from torch import nn\n",
        "from torch.utils.data import DataLoader, Dataset\n",
        "import torch.nn.functional as F\n",
        "import gensim\n",
        "\n",
        "from sklearn.model_selection import train_test_split\n",
        "import sklearn.metrics as metrics\n",
        "\n",
        "import matplotlib.pyplot as plt\n",
        "import seaborn as sns\n",
        "import numpy as np\n",
        "from tqdm import tqdm\n",
        "import gc\n",
        "import os\n",
        "\n",
        "import ssl\n",
        "ssl._create_default_https_context = ssl._create_unverified_context"
      ],
      "id": "hhfzl2OewlHX"
    },
    {
      "cell_type": "markdown",
      "metadata": {
        "collapsed": false,
        "id": "JvdQjiIpwlHX"
      },
      "source": [
        "# Config"
      ],
      "id": "JvdQjiIpwlHX"
    },
    {
      "cell_type": "markdown",
      "metadata": {
        "collapsed": false,
        "id": "0qDVyrHPwlHX"
      },
      "source": [
        "## Model training config"
      ],
      "id": "0qDVyrHPwlHX"
    },
    {
      "cell_type": "code",
      "execution_count": 4,
      "metadata": {
        "id": "orbfXFy-wlHX"
      },
      "outputs": [],
      "source": [
        "LEARNING_RATE = 4e-4\n",
        "WEIGHT_DECAY = 1e-2\n",
        "BATCH_SIZE = 64\n",
        "EPOCHS = 15\n",
        "\n",
        "SEQUENCE_LEN = 64\n",
        "CNN_FILTERS = 64"
      ],
      "id": "orbfXFy-wlHX"
    },
    {
      "cell_type": "code",
      "execution_count": 5,
      "metadata": {
        "colab": {
          "base_uri": "https://localhost:8080/"
        },
        "outputId": "64de2f42-9318-4dc6-c00b-b6d2db2fef24",
        "id": "B2AXoqLbwlHX"
      },
      "outputs": [
        {
          "output_type": "stream",
          "name": "stdout",
          "text": [
            "cuda\n"
          ]
        }
      ],
      "source": [
        "DEVICE = torch.device(\"cuda\" if torch.cuda.is_available() else \"cpu\")\n",
        "print(DEVICE)"
      ],
      "id": "B2AXoqLbwlHX"
    },
    {
      "cell_type": "markdown",
      "metadata": {
        "collapsed": false,
        "id": "g_nesBnEwlHX"
      },
      "source": [
        "# Data Preparation"
      ],
      "id": "g_nesBnEwlHX"
    },
    {
      "cell_type": "markdown",
      "metadata": {
        "collapsed": false,
        "id": "lyjDS0PWwlHX"
      },
      "source": [
        "## Load Data"
      ],
      "id": "lyjDS0PWwlHX"
    },
    {
      "cell_type": "code",
      "execution_count": 6,
      "metadata": {
        "colab": {
          "base_uri": "https://localhost:8080/",
          "height": 206
        },
        "outputId": "e7fa4fa6-1ed2-4193-abad-3e312e8c226f",
        "id": "jL-dSNWywlHX"
      },
      "outputs": [
        {
          "output_type": "execute_result",
          "data": {
            "text/plain": [
              "                                               tweet  intention\n",
              "0  my life is meaningless i just want to end my l...          1\n",
              "1  muttering i wanna die to myself daily for a fe...          1\n",
              "2  work slave i really feel like my only purpose ...          1\n",
              "3  i did something on the 2 of october i overdose...          1\n",
              "4  i feel like no one cares i just want to die ma...          1"
            ],
            "text/html": [
              "\n",
              "  <div id=\"df-87444ba0-fbc8-444f-8f55-691a7ec9375c\" class=\"colab-df-container\">\n",
              "    <div>\n",
              "<style scoped>\n",
              "    .dataframe tbody tr th:only-of-type {\n",
              "        vertical-align: middle;\n",
              "    }\n",
              "\n",
              "    .dataframe tbody tr th {\n",
              "        vertical-align: top;\n",
              "    }\n",
              "\n",
              "    .dataframe thead th {\n",
              "        text-align: right;\n",
              "    }\n",
              "</style>\n",
              "<table border=\"1\" class=\"dataframe\">\n",
              "  <thead>\n",
              "    <tr style=\"text-align: right;\">\n",
              "      <th></th>\n",
              "      <th>tweet</th>\n",
              "      <th>intention</th>\n",
              "    </tr>\n",
              "  </thead>\n",
              "  <tbody>\n",
              "    <tr>\n",
              "      <th>0</th>\n",
              "      <td>my life is meaningless i just want to end my l...</td>\n",
              "      <td>1</td>\n",
              "    </tr>\n",
              "    <tr>\n",
              "      <th>1</th>\n",
              "      <td>muttering i wanna die to myself daily for a fe...</td>\n",
              "      <td>1</td>\n",
              "    </tr>\n",
              "    <tr>\n",
              "      <th>2</th>\n",
              "      <td>work slave i really feel like my only purpose ...</td>\n",
              "      <td>1</td>\n",
              "    </tr>\n",
              "    <tr>\n",
              "      <th>3</th>\n",
              "      <td>i did something on the 2 of october i overdose...</td>\n",
              "      <td>1</td>\n",
              "    </tr>\n",
              "    <tr>\n",
              "      <th>4</th>\n",
              "      <td>i feel like no one cares i just want to die ma...</td>\n",
              "      <td>1</td>\n",
              "    </tr>\n",
              "  </tbody>\n",
              "</table>\n",
              "</div>\n",
              "    <div class=\"colab-df-buttons\">\n",
              "\n",
              "  <div class=\"colab-df-container\">\n",
              "    <button class=\"colab-df-convert\" onclick=\"convertToInteractive('df-87444ba0-fbc8-444f-8f55-691a7ec9375c')\"\n",
              "            title=\"Convert this dataframe to an interactive table.\"\n",
              "            style=\"display:none;\">\n",
              "\n",
              "  <svg xmlns=\"http://www.w3.org/2000/svg\" height=\"24px\" viewBox=\"0 -960 960 960\">\n",
              "    <path d=\"M120-120v-720h720v720H120Zm60-500h600v-160H180v160Zm220 220h160v-160H400v160Zm0 220h160v-160H400v160ZM180-400h160v-160H180v160Zm440 0h160v-160H620v160ZM180-180h160v-160H180v160Zm440 0h160v-160H620v160Z\"/>\n",
              "  </svg>\n",
              "    </button>\n",
              "\n",
              "  <style>\n",
              "    .colab-df-container {\n",
              "      display:flex;\n",
              "      gap: 12px;\n",
              "    }\n",
              "\n",
              "    .colab-df-convert {\n",
              "      background-color: #E8F0FE;\n",
              "      border: none;\n",
              "      border-radius: 50%;\n",
              "      cursor: pointer;\n",
              "      display: none;\n",
              "      fill: #1967D2;\n",
              "      height: 32px;\n",
              "      padding: 0 0 0 0;\n",
              "      width: 32px;\n",
              "    }\n",
              "\n",
              "    .colab-df-convert:hover {\n",
              "      background-color: #E2EBFA;\n",
              "      box-shadow: 0px 1px 2px rgba(60, 64, 67, 0.3), 0px 1px 3px 1px rgba(60, 64, 67, 0.15);\n",
              "      fill: #174EA6;\n",
              "    }\n",
              "\n",
              "    .colab-df-buttons div {\n",
              "      margin-bottom: 4px;\n",
              "    }\n",
              "\n",
              "    [theme=dark] .colab-df-convert {\n",
              "      background-color: #3B4455;\n",
              "      fill: #D2E3FC;\n",
              "    }\n",
              "\n",
              "    [theme=dark] .colab-df-convert:hover {\n",
              "      background-color: #434B5C;\n",
              "      box-shadow: 0px 1px 3px 1px rgba(0, 0, 0, 0.15);\n",
              "      filter: drop-shadow(0px 1px 2px rgba(0, 0, 0, 0.3));\n",
              "      fill: #FFFFFF;\n",
              "    }\n",
              "  </style>\n",
              "\n",
              "    <script>\n",
              "      const buttonEl =\n",
              "        document.querySelector('#df-87444ba0-fbc8-444f-8f55-691a7ec9375c button.colab-df-convert');\n",
              "      buttonEl.style.display =\n",
              "        google.colab.kernel.accessAllowed ? 'block' : 'none';\n",
              "\n",
              "      async function convertToInteractive(key) {\n",
              "        const element = document.querySelector('#df-87444ba0-fbc8-444f-8f55-691a7ec9375c');\n",
              "        const dataTable =\n",
              "          await google.colab.kernel.invokeFunction('convertToInteractive',\n",
              "                                                    [key], {});\n",
              "        if (!dataTable) return;\n",
              "\n",
              "        const docLinkHtml = 'Like what you see? Visit the ' +\n",
              "          '<a target=\"_blank\" href=https://colab.research.google.com/notebooks/data_table.ipynb>data table notebook</a>'\n",
              "          + ' to learn more about interactive tables.';\n",
              "        element.innerHTML = '';\n",
              "        dataTable['output_type'] = 'display_data';\n",
              "        await google.colab.output.renderOutput(dataTable, element);\n",
              "        const docLink = document.createElement('div');\n",
              "        docLink.innerHTML = docLinkHtml;\n",
              "        element.appendChild(docLink);\n",
              "      }\n",
              "    </script>\n",
              "  </div>\n",
              "\n",
              "\n",
              "    <div id=\"df-96ac1667-483f-457e-88ed-0797985185f3\">\n",
              "      <button class=\"colab-df-quickchart\" onclick=\"quickchart('df-96ac1667-483f-457e-88ed-0797985185f3')\"\n",
              "                title=\"Suggest charts\"\n",
              "                style=\"display:none;\">\n",
              "\n",
              "<svg xmlns=\"http://www.w3.org/2000/svg\" height=\"24px\"viewBox=\"0 0 24 24\"\n",
              "     width=\"24px\">\n",
              "    <g>\n",
              "        <path d=\"M19 3H5c-1.1 0-2 .9-2 2v14c0 1.1.9 2 2 2h14c1.1 0 2-.9 2-2V5c0-1.1-.9-2-2-2zM9 17H7v-7h2v7zm4 0h-2V7h2v10zm4 0h-2v-4h2v4z\"/>\n",
              "    </g>\n",
              "</svg>\n",
              "      </button>\n",
              "\n",
              "<style>\n",
              "  .colab-df-quickchart {\n",
              "      --bg-color: #E8F0FE;\n",
              "      --fill-color: #1967D2;\n",
              "      --hover-bg-color: #E2EBFA;\n",
              "      --hover-fill-color: #174EA6;\n",
              "      --disabled-fill-color: #AAA;\n",
              "      --disabled-bg-color: #DDD;\n",
              "  }\n",
              "\n",
              "  [theme=dark] .colab-df-quickchart {\n",
              "      --bg-color: #3B4455;\n",
              "      --fill-color: #D2E3FC;\n",
              "      --hover-bg-color: #434B5C;\n",
              "      --hover-fill-color: #FFFFFF;\n",
              "      --disabled-bg-color: #3B4455;\n",
              "      --disabled-fill-color: #666;\n",
              "  }\n",
              "\n",
              "  .colab-df-quickchart {\n",
              "    background-color: var(--bg-color);\n",
              "    border: none;\n",
              "    border-radius: 50%;\n",
              "    cursor: pointer;\n",
              "    display: none;\n",
              "    fill: var(--fill-color);\n",
              "    height: 32px;\n",
              "    padding: 0;\n",
              "    width: 32px;\n",
              "  }\n",
              "\n",
              "  .colab-df-quickchart:hover {\n",
              "    background-color: var(--hover-bg-color);\n",
              "    box-shadow: 0 1px 2px rgba(60, 64, 67, 0.3), 0 1px 3px 1px rgba(60, 64, 67, 0.15);\n",
              "    fill: var(--button-hover-fill-color);\n",
              "  }\n",
              "\n",
              "  .colab-df-quickchart-complete:disabled,\n",
              "  .colab-df-quickchart-complete:disabled:hover {\n",
              "    background-color: var(--disabled-bg-color);\n",
              "    fill: var(--disabled-fill-color);\n",
              "    box-shadow: none;\n",
              "  }\n",
              "\n",
              "  .colab-df-spinner {\n",
              "    border: 2px solid var(--fill-color);\n",
              "    border-color: transparent;\n",
              "    border-bottom-color: var(--fill-color);\n",
              "    animation:\n",
              "      spin 1s steps(1) infinite;\n",
              "  }\n",
              "\n",
              "  @keyframes spin {\n",
              "    0% {\n",
              "      border-color: transparent;\n",
              "      border-bottom-color: var(--fill-color);\n",
              "      border-left-color: var(--fill-color);\n",
              "    }\n",
              "    20% {\n",
              "      border-color: transparent;\n",
              "      border-left-color: var(--fill-color);\n",
              "      border-top-color: var(--fill-color);\n",
              "    }\n",
              "    30% {\n",
              "      border-color: transparent;\n",
              "      border-left-color: var(--fill-color);\n",
              "      border-top-color: var(--fill-color);\n",
              "      border-right-color: var(--fill-color);\n",
              "    }\n",
              "    40% {\n",
              "      border-color: transparent;\n",
              "      border-right-color: var(--fill-color);\n",
              "      border-top-color: var(--fill-color);\n",
              "    }\n",
              "    60% {\n",
              "      border-color: transparent;\n",
              "      border-right-color: var(--fill-color);\n",
              "    }\n",
              "    80% {\n",
              "      border-color: transparent;\n",
              "      border-right-color: var(--fill-color);\n",
              "      border-bottom-color: var(--fill-color);\n",
              "    }\n",
              "    90% {\n",
              "      border-color: transparent;\n",
              "      border-bottom-color: var(--fill-color);\n",
              "    }\n",
              "  }\n",
              "</style>\n",
              "\n",
              "      <script>\n",
              "        async function quickchart(key) {\n",
              "          const quickchartButtonEl =\n",
              "            document.querySelector('#' + key + ' button');\n",
              "          quickchartButtonEl.disabled = true;  // To prevent multiple clicks.\n",
              "          quickchartButtonEl.classList.add('colab-df-spinner');\n",
              "          try {\n",
              "            const charts = await google.colab.kernel.invokeFunction(\n",
              "                'suggestCharts', [key], {});\n",
              "          } catch (error) {\n",
              "            console.error('Error during call to suggestCharts:', error);\n",
              "          }\n",
              "          quickchartButtonEl.classList.remove('colab-df-spinner');\n",
              "          quickchartButtonEl.classList.add('colab-df-quickchart-complete');\n",
              "        }\n",
              "        (() => {\n",
              "          let quickchartButtonEl =\n",
              "            document.querySelector('#df-96ac1667-483f-457e-88ed-0797985185f3 button');\n",
              "          quickchartButtonEl.style.display =\n",
              "            google.colab.kernel.accessAllowed ? 'block' : 'none';\n",
              "        })();\n",
              "      </script>\n",
              "    </div>\n",
              "\n",
              "    </div>\n",
              "  </div>\n"
            ],
            "application/vnd.google.colaboratory.intrinsic+json": {
              "type": "dataframe",
              "variable_name": "df",
              "summary": "{\n  \"name\": \"df\",\n  \"rows\": 9119,\n  \"fields\": [\n    {\n      \"column\": \"tweet\",\n      \"properties\": {\n        \"dtype\": \"string\",\n        \"num_unique_values\": 8785,\n        \"samples\": [\n          \"i am so frustrated i hanged myself 6 and half weeks ago i barely survived i have a scar on my neck from the 12 inch manilla that cut into my neck yet all i can think of right now is blowing my head off i am on 20mg lexapro 10mg zyprexa and 100mg lamotrigine i spent all of yesterday cutting into my chest because the pain makes not see the hallucinations i get every hour of every day i just want to live a normal life\",\n          \"cold shower ftw too bad clothes had to be put back on it s too hot \",\n          \"rip jack kemp a great american patriot i always wanted to meet and now never will \"\n        ],\n        \"semantic_type\": \"\",\n        \"description\": \"\"\n      }\n    },\n    {\n      \"column\": \"intention\",\n      \"properties\": {\n        \"dtype\": \"number\",\n        \"std\": 0,\n        \"min\": 0,\n        \"max\": 1,\n        \"num_unique_values\": 2,\n        \"samples\": [\n          0,\n          1\n        ],\n        \"semantic_type\": \"\",\n        \"description\": \"\"\n      }\n    }\n  ]\n}"
            }
          },
          "metadata": {},
          "execution_count": 6
        }
      ],
      "source": [
        "# TODO: Load read and load the data here\n",
        "filePath = '/content/drive/My Drive/twitter-suicidal-data.csv'\n",
        "df = pd.read_csv(filePath)\n",
        "df.head()"
      ],
      "id": "jL-dSNWywlHX"
    },
    {
      "cell_type": "markdown",
      "metadata": {
        "collapsed": false,
        "id": "lXM76rR2wlHX"
      },
      "source": [
        "## Data Preprocessing"
      ],
      "id": "lXM76rR2wlHX"
    },
    {
      "cell_type": "code",
      "execution_count": 7,
      "metadata": {
        "colab": {
          "base_uri": "https://localhost:8080/"
        },
        "outputId": "52bf5f83-25c1-4d5f-ea9d-142bce6aa5bf",
        "id": "WPFWZcR2wlHY"
      },
      "outputs": [
        {
          "output_type": "stream",
          "name": "stderr",
          "text": [
            "[nltk_data] Downloading package stopwords to /root/nltk_data...\n",
            "[nltk_data]   Unzipping corpora/stopwords.zip.\n",
            "[nltk_data] Downloading package punkt_tab to /root/nltk_data...\n",
            "[nltk_data]   Unzipping tokenizers/punkt_tab.zip.\n",
            "[nltk_data] Downloading package wordnet to /root/nltk_data...\n",
            "[nltk_data] Downloading package averaged_perceptron_tagger to\n",
            "[nltk_data]     /root/nltk_data...\n",
            "[nltk_data]   Unzipping taggers/averaged_perceptron_tagger.zip.\n",
            "[nltk_data] Downloading package averaged_perceptron_tagger_eng to\n",
            "[nltk_data]     /root/nltk_data...\n",
            "[nltk_data]   Unzipping taggers/averaged_perceptron_tagger_eng.zip.\n"
          ]
        },
        {
          "output_type": "execute_result",
          "data": {
            "text/plain": [
              "True"
            ]
          },
          "metadata": {},
          "execution_count": 7
        }
      ],
      "source": [
        "import nltk\n",
        "import emoji\n",
        "import re\n",
        "\n",
        "nltk.download([\"stopwords\", \"punkt_tab\", \"wordnet\", \"averaged_perceptron_tagger\",'averaged_perceptron_tagger_eng'])"
      ],
      "id": "WPFWZcR2wlHY"
    },
    {
      "cell_type": "code",
      "execution_count": 8,
      "metadata": {
        "id": "kmhOTUYSwlHY"
      },
      "outputs": [],
      "source": [
        "def convert_emoji_to_text(text):\n",
        "    \"\"\"This function would replace emojies with a space\"\"\"\n",
        "    return emoji.replace_emoji(text, replace=' ')\n",
        "\n",
        "stopwords = nltk.corpus.stopwords.words(\"english\")\n",
        "lemmatizer = nltk.stem.WordNetLemmatizer()\n",
        "\n",
        "def nltk_pos_tagger(nltk_tag):\n",
        "    if nltk_tag.startswith('J'):\n",
        "        return 'a'\n",
        "    elif nltk_tag.startswith('V'):\n",
        "        return 'v'\n",
        "    elif nltk_tag.startswith('N'):\n",
        "        return 'n'\n",
        "    elif nltk_tag.startswith('R'):\n",
        "        return 'r'\n",
        "    else:\n",
        "        return 'n'\n",
        "\n",
        "def preprocess_data(text: str):\n",
        "    \"\"\"\n",
        "    Preprocessing steps are as follows:\n",
        "    1. lowercase the text\n",
        "    2. remove punctuation\n",
        "    3. remove numbers\n",
        "    4. remove urls\n",
        "    5. remove usernames\n",
        "    6. remove extra spaces\n",
        "    7. convert emojis to text\n",
        "    8. remove non-word characters\n",
        "    9. lemmatization and tokenization of the text\n",
        "    10. remove stopwords\n",
        "    :param text: str\n",
        "    :return: tokens: list[str]\n",
        "    \"\"\"\n",
        "\n",
        "    # TODO: lowercase the text\n",
        "    text = text.lower()\n",
        "    # TODO: remove punctuation\n",
        "    text = re.sub(r'[^\\w\\s]', '', text)\n",
        "    # TODO: remove numbers\n",
        "    text = re.sub(r'\\d+', '', text)\n",
        "    # TODO: remove urls,\n",
        "    text = re.sub(r'(https?://\\S+|www\\.\\S+)', '', text)\n",
        "    # TODO: remove usernames\n",
        "    text = re.sub(r'@\\w+', '', text)\n",
        "    # TODO: remove extra spaces\n",
        "    text = re.sub(r'\\s+', ' ', text)\n",
        "    # TODO: convert emojis to text\n",
        "    text = convert_emoji_to_text(text)\n",
        "    # TODO: remove non-word characters\n",
        "    text = re.sub(r'\\W+', ' ', text)\n",
        "    # TODO: lemmatization and tokenization of the text\n",
        "    tokens = nltk.word_tokenize(text)\n",
        "    tokens = [lemmatizer.lemmatize(token, nltk_pos_tagger(nltk.pos_tag([token])[0][1])) for token in tokens]\n",
        "    # TODO: remove stopwords\n",
        "    tokens = [token for token in tokens if token not in stopwords]\n",
        "\n",
        "    return tokens\n"
      ],
      "id": "kmhOTUYSwlHY"
    },
    {
      "cell_type": "code",
      "execution_count": 9,
      "metadata": {
        "colab": {
          "base_uri": "https://localhost:8080/"
        },
        "outputId": "6cc1f782-d283-42ee-db6f-e2c4b3439839",
        "id": "4If1rPn6wlHY"
      },
      "outputs": [
        {
          "output_type": "stream",
          "name": "stdout",
          "text": [
            "Preprocess: my life is meaningless i just want to end my life so badly my life is completely empty and i dont want to have to create meaning in it creating meaning is pain how long will i hold back the urge to run my car head first into the next person coming the opposite way when will i stop feeling jealous of tragic characters like gomer pile for the swift end they were able to bring to their lives\n",
            "After preprocess: ['life', 'meaningless', 'want', 'end', 'life', 'badly', 'life', 'completely', 'empty', 'dont', 'want', 'create', 'meaning', 'create', 'meaning', 'pain', 'long', 'hold', 'back', 'urge', 'run', 'car', 'head', 'first', 'next', 'person', 'come', 'opposite', 'way', 'stop', 'feel', 'jealous', 'tragic', 'character', 'like', 'gomer', 'pile', 'swift', 'end', 'able', 'bring', 'life']\n",
            "Preprocess: tonight i felt i could just die my heart hurts i could cry all night i dont want to feel numb or this horrible pain anymore soi amaccepting what isi am going to give myself time to heal i want to feel this pain and deal with reality instead how are you doingi amright there with you havent even climbed into bed ive been just sitting next to it picking my toes and staring at the floor since i got home from getting my things i left that her house months ago as a promise that id would be coming backbut the promise was that id be coming back for her i dont care about my damn speakers id give every up just a sliver of a hair short of my own life to have been have been able to even seen her with my own two eyes tonight but she was convinced id be lost and gone forever and opened herself up to the possibilities of finding love i someone else shes a beautiful funny attractive woman sadly it didnt take long for someone to find her id been looking for her for 89 years shes the first person that i truly opened my heart for since the last onei amafraid of what may lay ahead for me this oneade realize the love i had for the last one was just childs play this one enlightened me to the reality of true unconditional absolutely committed loveand i myself fucked it all up i wish she would have just genuinely asked me to just come home\n",
            "After preprocess: ['tonight', 'felt', 'could', 'die', 'heart', 'hurt', 'could', 'cry', 'night', 'dont', 'want', 'feel', 'numb', 'horrible', 'pain', 'anymore', 'soi', 'amaccepting', 'isi', 'go', 'give', 'time', 'heal', 'want', 'feel', 'pain', 'deal', 'reality', 'instead', 'doingi', 'amright', 'havent', 'even', 'climbed', 'bed', 'ive', 'sit', 'next', 'pick', 'toe', 'star', 'floor', 'since', 'get', 'home', 'get', 'thing', 'left', 'house', 'month', 'ago', 'promise', 'id', 'would', 'come', 'backbut', 'promise', 'id', 'come', 'back', 'dont', 'care', 'damn', 'speaker', 'id', 'give', 'every', 'sliver', 'hair', 'short', 'life', 'able', 'even', 'see', 'two', 'eye', 'tonight', 'convince', 'id', 'lose', 'go', 'forever', 'open', 'possibility', 'find', 'love', 'someone', 'else', 'shes', 'beautiful', 'funny', 'attractive', 'woman', 'sadly', 'didnt', 'take', 'long', 'someone', 'find', 'id', 'look', 'year', 'shes', 'first', 'person', 'truly', 'open', 'heart', 'since', 'last', 'onei', 'amafraid', 'may', 'lay', 'ahead', 'oneade', 'realize', 'love', 'last', 'one', 'child', 'play', 'one', 'enlighten', 'reality', 'true', 'unconditional', 'absolutely', 'commit', 'loveand', 'fuck', 'wish', 'would', 'genuinely', 'ask', 'come', 'home']\n"
          ]
        }
      ],
      "source": [
        "## TODO: Show some samples before/after preprocessing\n",
        "sample0 = preprocess_data(df['tweet'][0])\n",
        "sample1 = preprocess_data(df['tweet'][2000])\n",
        "print('Preprocess: '+ df['tweet'][0])\n",
        "print('After preprocess: '+ str(sample0))\n",
        "print('Preprocess: '+ df['tweet'][2000])\n",
        "print('After preprocess: '+ str(sample1))"
      ],
      "id": "4If1rPn6wlHY"
    },
    {
      "cell_type": "code",
      "source": [
        "processed_data = []\n",
        "\n",
        "for i in range(len(df)):\n",
        "    processed_tweet = preprocess_data(df['tweet'][i])\n",
        "    intention = df['intention'][i]\n",
        "    processed_data.append({'tweet': processed_tweet, 'intention': intention})\n",
        "\n",
        "dfTemp = pd.DataFrame(processed_data)"
      ],
      "metadata": {
        "id": "dNdmP2M6wlHY"
      },
      "execution_count": 10,
      "outputs": [],
      "id": "dNdmP2M6wlHY"
    },
    {
      "cell_type": "code",
      "source": [
        "dfTemp['num_tokens'] = dfTemp['tweet'].apply(len)\n",
        "\n",
        "plt.figure(figsize=(10,6))\n",
        "sns.histplot(data=dfTemp, x='num_tokens', hue='intention', multiple='stack', bins=30)\n",
        "\n",
        "plt.title('Token Count Distribution by Intention')\n",
        "plt.xlabel('Number of Tokens')\n",
        "plt.ylabel('Number of Tweets')\n",
        "plt.show()\n",
        "\n",
        "plt.figure(figsize=(10,6))\n",
        "sns.histplot(dfTemp['num_tokens'], bins=30, color='skyblue')\n",
        "\n",
        "plt.title('Token Count Distribution (Whole Dataset)')\n",
        "plt.xlabel('Number of Tokens')\n",
        "plt.ylabel('Number of Tweets')\n",
        "\n",
        "plt.show()\n",
        "\n",
        "print(\"Maximum number of tokens: \"+str(dfTemp['num_tokens'].max()))\n",
        "print(\"Minimum number of tokens: \"+str(dfTemp['num_tokens'].min()))\n",
        "print(\"Average number of tokens: \"+str(dfTemp['num_tokens'].mean()))"
      ],
      "metadata": {
        "colab": {
          "base_uri": "https://localhost:8080/",
          "height": 1000
        },
        "outputId": "ee3766a2-bcbb-4ed2-8aa0-740aafdd672c",
        "id": "I-YXK5_MwlHY"
      },
      "execution_count": 11,
      "outputs": [
        {
          "output_type": "display_data",
          "data": {
            "text/plain": [
              "<Figure size 1000x600 with 1 Axes>"
            ],
            "image/png": "[encoded data removed]"
          },
          "metadata": {}
        },
        {
          "output_type": "display_data",
          "data": {
            "text/plain": [
              "<Figure size 1000x600 with 1 Axes>"
            ],
            "image/png": "[encoded data removed]"
          },
          "metadata": {}
        },
        {
          "output_type": "stream",
          "name": "stdout",
          "text": [
            "Maximum number of tokens: 2137\n",
            "Minimum number of tokens: 0\n",
            "Average number of tokens: 37.28292575940344\n"
          ]
        }
      ],
      "id": "I-YXK5_MwlHY"
    },
    {
      "cell_type": "markdown",
      "metadata": {
        "collapsed": false,
        "id": "OvJlwadRwlHY"
      },
      "source": [
        "# Word2Vec - Word Embedding"
      ],
      "id": "OvJlwadRwlHY"
    },
    {
      "cell_type": "code",
      "execution_count": 12,
      "metadata": {
        "colab": {
          "base_uri": "https://localhost:8080/"
        },
        "outputId": "aa1153f5-0a21-48a7-d27b-bd10d3a9fc8f",
        "id": "-hvn3gUKwlHY"
      },
      "outputs": [
        {
          "output_type": "stream",
          "name": "stdout",
          "text": [
            "fasttext-wiki-news-subwords-300\n",
            "conceptnet-numberbatch-17-06-300\n",
            "word2vec-ruscorpora-300\n",
            "word2vec-google-news-300\n",
            "glove-wiki-gigaword-50\n",
            "glove-wiki-gigaword-100\n",
            "glove-wiki-gigaword-200\n",
            "glove-wiki-gigaword-300\n",
            "glove-twitter-25\n",
            "glove-twitter-50\n",
            "glove-twitter-100\n",
            "glove-twitter-200\n",
            "__testing_word2vec-matrix-synopsis\n"
          ]
        }
      ],
      "source": [
        "# print available word2vec models\n",
        "import gensim.downloader as api\n",
        "print(\"\\n\".join(api.info()['models'].keys()))"
      ],
      "id": "-hvn3gUKwlHY"
    },
    {
      "cell_type": "code",
      "execution_count": 13,
      "metadata": {
        "colab": {
          "base_uri": "https://localhost:8080/"
        },
        "outputId": "7ba1c6bc-92ac-4650-f775-c10b53a059e2",
        "id": "d_qmljMvwlHY"
      },
      "outputs": [
        {
          "output_type": "stream",
          "name": "stdout",
          "text": [
            "Loading Word2Vec model...\n",
            "Word2Vec model is loaded.\n"
          ]
        }
      ],
      "source": [
        "W2V_PATH = '/content/drive/My Drive/AI/w2v' # Path to W2V if downloaded\n",
        "if W2V_PATH is not None and os.path.exists(W2V_PATH):\n",
        "    print(\"Loading Word2Vec model...\")\n",
        "    w2v_model = gensim.models.KeyedVectors.load(W2V_PATH, mmap='r')\n",
        "    print(\"Word2Vec model is loaded.\")\n",
        "else:\n",
        "    print(\"Downloading Word2Vec model...\")\n",
        "    w2v_model = api.load(\"word2vec-google-news-300\")\n",
        "    print(\"Word2vec model is downloaded.\")\n",
        "    if W2V_PATH is not None:\n",
        "      print(\"\\nSaving Word2Vec model...\")\n",
        "      w2v_model.save(W2V_PATH)\n",
        "      print(\"Word2Vec model is saved.\")"
      ],
      "id": "d_qmljMvwlHY"
    },
    {
      "cell_type": "code",
      "execution_count": 14,
      "metadata": {
        "id": "cOKdBMYGwlHY"
      },
      "outputs": [],
      "source": [
        "EMBEDDING_VECTOR_DIM = w2v_model.vector_size"
      ],
      "id": "cOKdBMYGwlHY"
    },
    {
      "cell_type": "markdown",
      "metadata": {
        "collapsed": false,
        "id": "GJgOWodVwlHY"
      },
      "source": [
        "# Dataset"
      ],
      "id": "GJgOWodVwlHY"
    },
    {
      "cell_type": "code",
      "execution_count": 15,
      "metadata": {
        "id": "TaL5-9cPwlHZ"
      },
      "outputs": [],
      "source": [
        "class Twitter(Dataset):\n",
        "    def __init__(self, dataframe: pd.DataFrame, w2v_model: gensim.models.KeyedVectors, sequence_len: int):\n",
        "        self.dataframe = dataframe\n",
        "        self.w2v_model = w2v_model\n",
        "        self.max_sequence_len = sequence_len\n",
        "        self.vector_size = w2v_model.vector_size\n",
        "\n",
        "        self.df_token_col = \"tokens\"\n",
        "\n",
        "\n",
        "        self._proc_dataset()\n",
        "\n",
        "        self.len = len(self.dataframe)\n",
        "\n",
        "    def __len__(self):\n",
        "        return self.len\n",
        "\n",
        "    def __getitem__(self, idx):\n",
        "        return self.dataframe.iloc[idx][\"vector\"], self.dataframe.iloc[idx][\"intention\"]\n",
        "\n",
        "    def get_vector_size(self):\n",
        "        return self.vector_size\n",
        "\n",
        "    def _proc_dataset(self):\n",
        "        # Preprocess and return tokens list\n",
        "        self.dataframe[self.df_token_col] = self.dataframe[\"tweet\"].map(preprocess_data)\n",
        "\n",
        "        # delete samples with empty tokens\n",
        "        lwz = len(self.dataframe)\n",
        "        self.dataframe = self.dataframe[self.dataframe[self.df_token_col].map(len) > 0]\n",
        "        self.dataframe.reset_index(drop=True, inplace=True)\n",
        "        print(f\"Deleted 0-Len Samples: {lwz - len(self.dataframe)}\")\n",
        "\n",
        "        # Add padding\n",
        "        self.dataframe[self.df_token_col] = self.dataframe[self.df_token_col].map(self._pad)\n",
        "\n",
        "        # Get embedding's vectors\n",
        "        self.dataframe[\"vector\"] = self.dataframe[self.df_token_col].map(self._get_word_vectors)\n",
        "\n",
        "    def _get_word_vectors(self, tokens: list) -> torch.tensor:\n",
        "      # TODO: Return a 2D tensor for whole list of tokens, using vectors from w2v as explained on the description\n",
        "      vector = []\n",
        "      for token in tokens:\n",
        "        if token in self.w2v_model:\n",
        "          vector.append(self.w2v_model[token])\n",
        "        else:\n",
        "          vector.append([0]*self.vector_size)\n",
        "      return self._to_tensor(vector)\n",
        "\n",
        "    def _pad(self, tokens: list):\n",
        "        # TODO: Add paddings (zero-vectors) into the end of sequence to reach the desired length\n",
        "        if len(tokens) >= self.max_sequence_len:\n",
        "            return tokens[:self.max_sequence_len]\n",
        "        else:\n",
        "            return tokens + [0] * (self.max_sequence_len - len(tokens))\n",
        "    def seq_report(self):\n",
        "        length_all = self.dataframe[self.df_token_col].map(len).tolist()\n",
        "        max_length = np.max(length_all)\n",
        "        print(f\"Sequence Length Report\")\n",
        "        print(f\":::::MAX  LENGTH:::[{max_length:^5}]\")\n",
        "        print(f\":::::MIN  LENGTH:::[{np.min(length_all):^5}]\")\n",
        "        print(f\":::::MEAN LENGTH:::[{np.mean(length_all):^5}]\")\n",
        "\n",
        "        all_tokens = set()\n",
        "        for token_set in self.dataframe[self.df_token_col].tolist():\n",
        "            all_tokens = all_tokens.union(set(token_set))\n",
        "        unique_tokens_count = len(all_tokens)\n",
        "        valid_tokens = sum(1 if token in self.w2v_model else 0 for token in all_tokens)\n",
        "        print(\"Sequence Tokenization Report\")\n",
        "        print(f\":::::All Unique Tokens:::[{unique_tokens_count:^6}\")\n",
        "        print(f\":::::All Valid Tokens:::[{valid_tokens:^6}\")\n",
        "        print(f\":::::Valid Tokens:::[{round(100*valid_tokens/unique_tokens_count, 2):^5}%]\")\n",
        "\n",
        "    @staticmethod\n",
        "    def _to_tensor(tokens: list):\n",
        "        return torch.tensor(tokens, dtype=torch.float32)"
      ],
      "id": "TaL5-9cPwlHZ"
    },
    {
      "cell_type": "markdown",
      "metadata": {
        "collapsed": false,
        "id": "epHaLAeDwlHZ"
      },
      "source": [
        "# Prepare Data"
      ],
      "id": "epHaLAeDwlHZ"
    },
    {
      "cell_type": "markdown",
      "metadata": {
        "collapsed": false,
        "id": "GqfPerQNwlHZ"
      },
      "source": [
        "## Split Data into train-valid"
      ],
      "id": "GqfPerQNwlHZ"
    },
    {
      "cell_type": "code",
      "execution_count": 16,
      "metadata": {
        "id": "Wc0HRGeBwlHZ"
      },
      "outputs": [],
      "source": [
        "# TODO: Split dataset into train-test split\n",
        "train_df, valid_df = train_test_split(df, test_size=0.25, random_state=42)"
      ],
      "id": "Wc0HRGeBwlHZ"
    },
    {
      "cell_type": "markdown",
      "metadata": {
        "collapsed": false,
        "id": "scNbm8zawlHZ"
      },
      "source": [
        "## Create Datasets"
      ],
      "id": "scNbm8zawlHZ"
    },
    {
      "cell_type": "code",
      "execution_count": 17,
      "metadata": {
        "colab": {
          "base_uri": "https://localhost:8080/"
        },
        "outputId": "369a55d8-99a5-4853-f14c-4a8bf9a365ae",
        "id": "cLyoUTN2wlHZ"
      },
      "outputs": [
        {
          "metadata": {
            "tags": null
          },
          "name": "stdout",
          "output_type": "stream",
          "text": [
            "Deleted 0-Len Samples: 22\n"
          ]
        },
        {
          "metadata": {
            "tags": null
          },
          "name": "stderr",
          "output_type": "stream",
          "text": [
            "/tmp/ipython-input-15-554835015.py:35: SettingWithCopyWarning: \n",
            "A value is trying to be set on a copy of a slice from a DataFrame.\n",
            "Try using .loc[row_indexer,col_indexer] = value instead\n",
            "\n",
            "See the caveats in the documentation: https://pandas.pydata.org/pandas-docs/stable/user_guide/indexing.html#returning-a-view-versus-a-copy\n",
            "  self.dataframe[self.df_token_col] = self.dataframe[self.df_token_col].map(self._pad)\n",
            "/tmp/ipython-input-15-554835015.py:76: UserWarning: Creating a tensor from a list of numpy.ndarrays is extremely slow. Please consider converting the list to a single numpy.ndarray with numpy.array() before converting to a tensor. (Triggered internally at /pytorch/torch/csrc/utils/tensor_new.cpp:254.)\n",
            "  return torch.tensor(tokens, dtype=torch.float32)\n",
            "/tmp/ipython-input-15-554835015.py:38: SettingWithCopyWarning: \n",
            "A value is trying to be set on a copy of a slice from a DataFrame.\n",
            "Try using .loc[row_indexer,col_indexer] = value instead\n",
            "\n",
            "See the caveats in the documentation: https://pandas.pydata.org/pandas-docs/stable/user_guide/indexing.html#returning-a-view-versus-a-copy\n",
            "  self.dataframe[\"vector\"] = self.dataframe[self.df_token_col].map(self._get_word_vectors)\n"
          ]
        },
        {
          "metadata": {
            "tags": null
          },
          "name": "stdout",
          "output_type": "stream",
          "text": [
            "Deleted 0-Len Samples: 9\n"
          ]
        },
        {
          "metadata": {
            "tags": null
          },
          "name": "stderr",
          "output_type": "stream",
          "text": [
            "/tmp/ipython-input-15-554835015.py:35: SettingWithCopyWarning: \n",
            "A value is trying to be set on a copy of a slice from a DataFrame.\n",
            "Try using .loc[row_indexer,col_indexer] = value instead\n",
            "\n",
            "See the caveats in the documentation: https://pandas.pydata.org/pandas-docs/stable/user_guide/indexing.html#returning-a-view-versus-a-copy\n",
            "  self.dataframe[self.df_token_col] = self.dataframe[self.df_token_col].map(self._pad)\n",
            "/tmp/ipython-input-15-554835015.py:38: SettingWithCopyWarning: \n",
            "A value is trying to be set on a copy of a slice from a DataFrame.\n",
            "Try using .loc[row_indexer,col_indexer] = value instead\n",
            "\n",
            "See the caveats in the documentation: https://pandas.pydata.org/pandas-docs/stable/user_guide/indexing.html#returning-a-view-versus-a-copy\n",
            "  self.dataframe[\"vector\"] = self.dataframe[self.df_token_col].map(self._get_word_vectors)\n"
          ]
        }
      ],
      "source": [
        "# TODO: create twitter dataset\n",
        "train_dataset = Twitter(\n",
        "    train_df,w2v_model,SEQUENCE_LEN\n",
        ")\n",
        "valid_dataset = Twitter(\n",
        "    valid_df,w2v_model,SEQUENCE_LEN\n",
        ")\n"
      ],
      "id": "cLyoUTN2wlHZ"
    },
    {
      "cell_type": "code",
      "source": [
        "print(f\"Train dataset length: {len(train_dataset)}\")\n",
        "print(f\"Valid dataset length: {len(valid_dataset)}\")"
      ],
      "metadata": {
        "colab": {
          "base_uri": "https://localhost:8080/"
        },
        "outputId": "b686094f-f23d-4f2f-d9a9-3703b70fae39",
        "id": "SOJ97XlJwlHZ"
      },
      "execution_count": 18,
      "outputs": [
        {
          "metadata": {
            "tags": null
          },
          "name": "stdout",
          "output_type": "stream",
          "text": [
            "Train dataset length: 6817\n",
            "Valid dataset length: 2271\n"
          ]
        }
      ],
      "id": "SOJ97XlJwlHZ"
    },
    {
      "cell_type": "markdown",
      "metadata": {
        "collapsed": false,
        "id": "BEAKK433wlHZ"
      },
      "source": [
        "# Model and Train"
      ],
      "id": "BEAKK433wlHZ"
    },
    {
      "cell_type": "markdown",
      "metadata": {
        "collapsed": false,
        "id": "1cLybuTAwlHZ"
      },
      "source": [
        "## Utils"
      ],
      "id": "1cLybuTAwlHZ"
    },
    {
      "cell_type": "code",
      "execution_count": 19,
      "metadata": {
        "id": "Ec17Cj4FwlHZ"
      },
      "outputs": [],
      "source": [
        "@torch.no_grad()\n",
        "def model_eval(model, loader, loss_function, device: str):\n",
        "    \"\"\"Returns test_loss, test_acc\"\"\"\n",
        "    test_loss = 0.0\n",
        "    test_acc = 0.0\n",
        "\n",
        "    if device == \"auto\":\n",
        "        device = torch.device(\"cuda\" if torch.cuda.is_available() else \"cpu\")\n",
        "\n",
        "    model = model.to(device)\n",
        "    itr = tqdm(loader, total=len(loader), leave=False)\n",
        "\n",
        "    for inputs, labels in itr:\n",
        "        # TODO: move model's inputs to `device`\n",
        "        inputs = inputs.permute(0, 2, 1)\n",
        "        inputs = inputs.to(device)\n",
        "        labels = labels.to(device)\n",
        "        # TODO: use model's forward pass to generate outputs\n",
        "        outputs = model(inputs)\n",
        "        # TODO: calculate model's loss\n",
        "        # loss =\n",
        "        loss = loss_function(outputs, labels)\n",
        "        test_loss += loss.item() * inputs.size(0)  # sum over batch\n",
        "        # TODO: calculate/update model's accuracy\n",
        "        preds = outputs.argmax(dim=1)\n",
        "        correct = (preds == labels).sum().item()\n",
        "        test_acc += correct\n",
        "\n",
        "        itr.set_description(\"(Eval)\")\n",
        "        itr.set_postfix(\n",
        "            loss=round(loss.item(), 5),\n",
        "            accuracy=round(test_acc, 5),\n",
        "        )\n",
        "    #test_loss /= len(loader.dataset)\n",
        "    #test_acc /= len(loader.dataset)\n",
        "    return test_loss, test_acc\n"
      ],
      "id": "Ec17Cj4FwlHZ"
    },
    {
      "cell_type": "code",
      "execution_count": 20,
      "metadata": {
        "id": "snwrTTstwlHZ"
      },
      "outputs": [],
      "source": [
        "def train_model(\n",
        "        model,\n",
        "        batch_size,\n",
        "        loss_function,\n",
        "        optimizer,\n",
        "        epochs,\n",
        "        train_set,\n",
        "        valid_set,\n",
        "        device: str,\n",
        "):\n",
        "\n",
        "    if device == \"auto\":\n",
        "        device = torch.device(\"cuda\" if torch.cuda.is_available() else \"cpu\")\n",
        "\n",
        "    model.to(device)\n",
        "\n",
        "    train_losses = []\n",
        "    train_accs = []\n",
        "\n",
        "    valid_losses = []\n",
        "    valid_accs = []\n",
        "\n",
        "    # TODO: create dataloaders from datasets\n",
        "    train_loader = DataLoader(train_set, batch_size=batch_size, shuffle=True)\n",
        "    valid_loader = DataLoader(valid_set, batch_size=batch_size, shuffle=True)\n",
        "\n",
        "    model.to(device)\n",
        "\n",
        "    itr = tqdm(train_loader, total=len(train_loader), leave=False)\n",
        "\n",
        "    for epoch in range(epochs):\n",
        "        model.train()\n",
        "        epoch_loss = 0\n",
        "        epoch_acc = 0\n",
        "        for idx, (inputs, labels) in enumerate(itr, start=1):\n",
        "            # TODO: move model's inputs to `device`\n",
        "            inputs = inputs.permute(0, 2, 1)\n",
        "            inputs = inputs.to(device)\n",
        "            labels = labels.to(device)\n",
        "            # TODO: use model's forward pass to generate outputs\n",
        "            outputs = model(inputs)\n",
        "            # TODO: process model's predictipns and calculate/update accuracy\n",
        "            preds = outputs.argmax(dim=1)\n",
        "            correct = (preds == labels).sum().item()\n",
        "            epoch_acc += correct\n",
        "            # TODO: calculate model's loss and update epoch's loss\n",
        "            # loss =\n",
        "            loss = loss_function(outputs, labels)\n",
        "            # TODO: 1. clear optimizer's state and zero prev grads,\n",
        "            # TODO: 2. backward calculated loss\n",
        "            # TODO: 3. step optimizer\n",
        "            optimizer.zero_grad()\n",
        "            loss.backward()\n",
        "            optimizer.step()\n",
        "            epoch_loss += loss.item() * inputs.size(0)\n",
        "\n",
        "            itr.set_description(f\"(Training) Epoch [{epoch + 1}/{epochs}]\")\n",
        "            itr.set_postfix(\n",
        "              loss=round(loss.item(), 5),\n",
        "              accuracy=round(epoch_acc, 5),\n",
        "              )\n",
        "\n",
        "        model.eval()\n",
        "        valid_loss, valid_acc = model_eval(\n",
        "            model=model,\n",
        "            loader=valid_loader,\n",
        "            loss_function=loss_function,\n",
        "            device=device\n",
        "            )\n",
        "\n",
        "        # TODO: update statistics regaurding model's loss and acc in training or validation phases\n",
        "        train_losses.append(epoch_loss)\n",
        "        train_accs.append(epoch_acc)\n",
        "\n",
        "        valid_losses.append(valid_loss)\n",
        "        valid_accs.append(valid_acc)\n",
        "    history = {\n",
        "      \"train_loss\": train_losses,\n",
        "      \"train_acc\": train_accs,\n",
        "\n",
        "      \"valid_loss\": valid_losses,\n",
        "      \"valid_acc\": valid_accs,\n",
        "    }\n",
        "    return history"
      ],
      "id": "snwrTTstwlHZ"
    },
    {
      "cell_type": "code",
      "execution_count": 21,
      "metadata": {
        "id": "YKZACauWwlHZ"
      },
      "outputs": [],
      "source": [
        "def trend_plot_helper(pobj):\n",
        "    plt.figure(figsize=(5*len(pobj), 5))\n",
        "    for idx, (titler, plots) in enumerate(pobj.items(), start=1):\n",
        "        plt.subplot(1, len(pobj), idx)\n",
        "        for label, trend in plots:\n",
        "            plt.plot(range(1, len(trend)+1), trend, label=label)\n",
        "        yt, xt = titler.split(' - ')\n",
        "        plt.xlabel(xt)\n",
        "        plt.ylabel(yt)\n",
        "        plt.legend()"
      ],
      "id": "YKZACauWwlHZ"
    },
    {
      "cell_type": "code",
      "execution_count": 22,
      "metadata": {
        "id": "kaSeRWOgwlHa"
      },
      "outputs": [],
      "source": [
        "@torch.no_grad()\n",
        "def generate_confusion_matrix(model, dataset, device='auto'):\n",
        "    if device == 'auto':\n",
        "        device = torch.device(\"cuda\" if torch.cuda.is_available() else \"cpu\")\n",
        "    model = model.to(device)\n",
        "\n",
        "    loader = DataLoader(dataset, batch_size=32, shuffle=False)\n",
        "    itr = tqdm(loader, leave=False, desc=\"Generate data\")\n",
        "\n",
        "    # TODO: code here, you must fill variables below\n",
        "    # TODO: labels = true labels from the dataset\n",
        "    # TODO: predicted = labels predicted by the model\n",
        "    labels = []\n",
        "    predicted = []\n",
        "\n",
        "    for inputs, targets in itr:\n",
        "        inputs = inputs.permute(0, 2, 1)\n",
        "        inputs = inputs.to(device)\n",
        "        targets = targets.to(device)\n",
        "\n",
        "        outputs = model(inputs)\n",
        "        preds = outputs.argmax(dim=1)  # Get class with highest score\n",
        "\n",
        "        labels.extend(targets.cpu().tolist())\n",
        "        predicted.extend(preds.cpu().tolist())\n",
        "\n",
        "    cm = metrics.confusion_matrix(\n",
        "        y_true=labels,\n",
        "        y_pred=predicted,\n",
        "    )\n",
        "\n",
        "    plt.figure(figsize=(10,10))\n",
        "    sns.heatmap(cm, cmap='Blues', annot=True, cbar=False, fmt=\".0f\",)\n",
        "    plt.xlabel('Predicted Label', labelpad=20)\n",
        "    plt.ylabel('True Label', labelpad=20)\n",
        "    plt.title('Confusion Matrix', fontsize=30)\n",
        "\n",
        "    recall = metrics.recall_score(y_true=labels, y_pred=predicted, average='macro')\n",
        "    f1 = metrics.f1_score(y_true=labels, y_pred=predicted, average='macro')\n",
        "    precision = metrics.precision_score(y_true=labels, y_pred=predicted, average='macro')\n",
        "    report = metrics.classification_report(y_true=labels, y_pred=predicted)\n",
        "\n",
        "    return {'recall': recall, 'f1': f1, 'precision': precision, 'report': report}\n"
      ],
      "id": "kaSeRWOgwlHa"
    },
    {
      "cell_type": "markdown",
      "metadata": {
        "collapsed": false,
        "id": "EbR7zz76wlHa"
      },
      "source": [
        "## Model's Network"
      ],
      "id": "EbR7zz76wlHa"
    },
    {
      "cell_type": "code",
      "execution_count": 41,
      "metadata": {
        "id": "Wud1_UjYwlHa"
      },
      "outputs": [],
      "source": [
        "class CNN(nn.Module):\n",
        "    def __init__(self): # TODO: define your args here\n",
        "        super(CNN, self).__init__()\n",
        "\n",
        "        # TODO: define you network's layers here\n",
        "        self.conv1_k3 = nn.Conv1d(in_channels=300, out_channels=64, kernel_size=3, padding=1)\n",
        "        self.conv1_k5 = nn.Conv1d(in_channels=300, out_channels=64, kernel_size=5, padding=2)\n",
        "        self.conv1_k7 = nn.Conv1d(in_channels=300, out_channels=64, kernel_size=7, padding=3)\n",
        "        self.conv2_k3 = nn.Conv1d(in_channels=64, out_channels=128, kernel_size=3, padding=1)\n",
        "        self.conv2_k5 = nn.Conv1d(in_channels=64, out_channels=128, kernel_size=5, padding=2)\n",
        "        self.conv2_k7 = nn.Conv1d(in_channels=64, out_channels=128, kernel_size=7, padding=3)\n",
        "        self.fc1 = nn.Linear(3 * 128, 128)\n",
        "        self.fc2 = nn.Linear(128, 2)\n",
        "    def forward(self, x):\n",
        "\n",
        "        # TODO: implement forward pass here\n",
        "        x1 = F.relu(self.conv1_k3(x))\n",
        "        x2 = F.relu(self.conv1_k5(x))\n",
        "        x3 = F.relu(self.conv1_k7(x))\n",
        "        y1 = F.relu(self.conv2_k3(x1))\n",
        "        y2 = F.relu(self.conv2_k5(x2))\n",
        "        y3 = F.relu(self.conv2_k7(x3))\n",
        "        y1 = torch.max(y1, dim=2).values\n",
        "        y2 = torch.max(y2, dim=2).values\n",
        "        y3 = torch.max(y3, dim=2).values\n",
        "        y = torch.cat([y1, y2, y3], dim=1)\n",
        "        y = F.relu(self.fc1(y))\n",
        "        y = self.fc2(y)\n",
        "        return y"
      ],
      "id": "Wud1_UjYwlHa"
    },
    {
      "cell_type": "markdown",
      "source": [
        "## Training"
      ],
      "metadata": {
        "id": "K9tF0ej6wlHa"
      },
      "id": "K9tF0ej6wlHa"
    },
    {
      "cell_type": "code",
      "execution_count": 42,
      "metadata": {
        "id": "X31zJ7NbwlHa"
      },
      "outputs": [],
      "source": [
        "# TODO: instantiate your model here\n",
        "model = CNN()"
      ],
      "id": "X31zJ7NbwlHa"
    },
    {
      "cell_type": "code",
      "execution_count": 43,
      "metadata": {
        "colab": {
          "base_uri": "https://localhost:8080/"
        },
        "outputId": "2e8ca7d0-5f0b-4fcd-dec7-d125dbc6b299",
        "id": "e5kH9WGZwlHa"
      },
      "outputs": [
        {
          "output_type": "stream",
          "name": "stderr",
          "text": []
        }
      ],
      "source": [
        "cnn_model_train_history = train_model( # TODO: train your model\n",
        "    model,BATCH_SIZE,nn.CrossEntropyLoss(),torch.optim.Adam(model.parameters(), lr=LEARNING_RATE),EPOCHS,train_dataset,valid_dataset,DEVICE\n",
        ")"
      ],
      "id": "e5kH9WGZwlHa"
    },
    {
      "cell_type": "code",
      "execution_count": 44,
      "metadata": {
        "colab": {
          "base_uri": "https://localhost:8080/",
          "height": 468
        },
        "outputId": "011177ed-1fd8-40d4-9024-6cb768737f8a",
        "id": "TOL_H7hZwlHa"
      },
      "outputs": [
        {
          "output_type": "display_data",
          "data": {
            "text/plain": [
              "<Figure size 1000x500 with 2 Axes>"
            ],
            "image/png": "[encoded data removed]"
          },
          "metadata": {}
        }
      ],
      "source": [
        "trend_plot_helper(\n",
        "    {\n",
        "        \"Accuracy - Epoch\": [\n",
        "            (\"Train Acc\", cnn_model_train_history[\"train_acc\"]),\n",
        "            (\"Validation Acc\", cnn_model_train_history[\"valid_acc\"]),\n",
        "        ],\n",
        "        \"Loss - Epoch\": [\n",
        "            (\"Train Loss\", cnn_model_train_history[\"train_loss\"]),\n",
        "            (\"Validation Loss\", cnn_model_train_history[\"valid_loss\"])\n",
        "        ]\n",
        "    }\n",
        ")"
      ],
      "id": "TOL_H7hZwlHa"
    },
    {
      "cell_type": "code",
      "execution_count": 45,
      "metadata": {
        "colab": {
          "base_uri": "https://localhost:8080/",
          "height": 914
        },
        "outputId": "3270d19a-6c22-4e9a-a6fe-73568eb90021",
        "id": "JkgNblQVwlHa"
      },
      "outputs": [
        {
          "output_type": "stream",
          "name": "stderr",
          "text": []
        },
        {
          "output_type": "display_data",
          "data": {
            "text/plain": [
              "<Figure size 1000x1000 with 1 Axes>"
            ],
            "image/png": "[encoded data removed]"
          },
          "metadata": {}
        }
      ],
      "source": [
        "cnn_model_report = generate_confusion_matrix(\n",
        "    model=model,\n",
        "    dataset=valid_dataset,\n",
        ")"
      ],
      "id": "JkgNblQVwlHa"
    },
    {
      "cell_type": "code",
      "execution_count": 46,
      "metadata": {
        "colab": {
          "base_uri": "https://localhost:8080/"
        },
        "outputId": "e8193ace-60fa-42e2-ee75-dedcae20e2c5",
        "id": "0l_h6CH-wlHa"
      },
      "outputs": [
        {
          "output_type": "stream",
          "name": "stdout",
          "text": [
            "Recall:    0.908\n",
            "F1:        0.912\n",
            "Precision: 0.921\n",
            "              precision    recall  f1-score   support\n",
            "\n",
            "           0       0.89      0.97      0.93      1263\n",
            "           1       0.95      0.85      0.90      1008\n",
            "\n",
            "    accuracy                           0.91      2271\n",
            "   macro avg       0.92      0.91      0.91      2271\n",
            "weighted avg       0.92      0.91      0.91      2271\n",
            "\n"
          ]
        }
      ],
      "source": [
        "print(f\"Recall:    {cnn_model_report['recall']:.3f}\")\n",
        "print(f\"F1:        {cnn_model_report['f1']:.3f}\")\n",
        "print(f\"Precision: {cnn_model_report['precision']:.3f}\")\n",
        "print(cnn_model_report['report'])"
      ],
      "id": "0l_h6CH-wlHa"
    },
    {
      "cell_type": "markdown",
      "source": [
        "# With larger context window\n"
      ],
      "metadata": {
        "id": "xK74MCfGRu7H"
      },
      "id": "xK74MCfGRu7H"
    },
    {
      "cell_type": "markdown",
      "id": "cf946d026ed2d98e",
      "metadata": {
        "collapsed": false,
        "id": "cf946d026ed2d98e"
      },
      "source": [
        "## Config"
      ]
    },
    {
      "cell_type": "markdown",
      "id": "3e83a8b72b644c2",
      "metadata": {
        "collapsed": false,
        "id": "3e83a8b72b644c2"
      },
      "source": [
        "### Model training config"
      ]
    },
    {
      "cell_type": "code",
      "execution_count": 47,
      "id": "2d0826c5b8eb52c9",
      "metadata": {
        "id": "2d0826c5b8eb52c9"
      },
      "outputs": [],
      "source": [
        "LEARNING_RATE = 4e-4\n",
        "WEIGHT_DECAY = 1e-2\n",
        "BATCH_SIZE = 64\n",
        "EPOCHS = 15\n",
        "\n",
        "SEQUENCE_LEN = 196\n",
        "CNN_FILTERS = 64"
      ]
    },
    {
      "cell_type": "markdown",
      "id": "4b87e7e8b267a1c8",
      "metadata": {
        "collapsed": false,
        "id": "4b87e7e8b267a1c8"
      },
      "source": [
        "## Prepare Data"
      ]
    },
    {
      "cell_type": "markdown",
      "id": "670fcd8db0e5651c",
      "metadata": {
        "collapsed": false,
        "id": "670fcd8db0e5651c"
      },
      "source": [
        "### Create Datasets"
      ]
    },
    {
      "cell_type": "code",
      "execution_count": 48,
      "id": "3e4a5b690afadad5",
      "metadata": {
        "id": "3e4a5b690afadad5",
        "colab": {
          "base_uri": "https://localhost:8080/"
        },
        "outputId": "a1ab4264-3134-4f34-8381-492923abfeda"
      },
      "outputs": [
        {
          "metadata": {
            "tags": null
          },
          "name": "stdout",
          "output_type": "stream",
          "text": [
            "Deleted 0-Len Samples: 22\n"
          ]
        },
        {
          "metadata": {
            "tags": null
          },
          "name": "stderr",
          "output_type": "stream",
          "text": [
            "/tmp/ipython-input-15-554835015.py:35: SettingWithCopyWarning: \n",
            "A value is trying to be set on a copy of a slice from a DataFrame.\n",
            "Try using .loc[row_indexer,col_indexer] = value instead\n",
            "\n",
            "See the caveats in the documentation: https://pandas.pydata.org/pandas-docs/stable/user_guide/indexing.html#returning-a-view-versus-a-copy\n",
            "  self.dataframe[self.df_token_col] = self.dataframe[self.df_token_col].map(self._pad)\n",
            "/tmp/ipython-input-15-554835015.py:38: SettingWithCopyWarning: \n",
            "A value is trying to be set on a copy of a slice from a DataFrame.\n",
            "Try using .loc[row_indexer,col_indexer] = value instead\n",
            "\n",
            "See the caveats in the documentation: https://pandas.pydata.org/pandas-docs/stable/user_guide/indexing.html#returning-a-view-versus-a-copy\n",
            "  self.dataframe[\"vector\"] = self.dataframe[self.df_token_col].map(self._get_word_vectors)\n"
          ]
        },
        {
          "metadata": {
            "tags": null
          },
          "name": "stdout",
          "output_type": "stream",
          "text": [
            "Deleted 0-Len Samples: 9\n"
          ]
        },
        {
          "output_type": "stream",
          "name": "stderr",
          "text": [
            "/tmp/ipython-input-15-554835015.py:35: SettingWithCopyWarning: \n",
            "A value is trying to be set on a copy of a slice from a DataFrame.\n",
            "Try using .loc[row_indexer,col_indexer] = value instead\n",
            "\n",
            "See the caveats in the documentation: https://pandas.pydata.org/pandas-docs/stable/user_guide/indexing.html#returning-a-view-versus-a-copy\n",
            "  self.dataframe[self.df_token_col] = self.dataframe[self.df_token_col].map(self._pad)\n",
            "/tmp/ipython-input-15-554835015.py:38: SettingWithCopyWarning: \n",
            "A value is trying to be set on a copy of a slice from a DataFrame.\n",
            "Try using .loc[row_indexer,col_indexer] = value instead\n",
            "\n",
            "See the caveats in the documentation: https://pandas.pydata.org/pandas-docs/stable/user_guide/indexing.html#returning-a-view-versus-a-copy\n",
            "  self.dataframe[\"vector\"] = self.dataframe[self.df_token_col].map(self._get_word_vectors)\n"
          ]
        }
      ],
      "source": [
        "# TODO: create twitter dataset\n",
        "train_dataset = Twitter(\n",
        "    train_df,w2v_model,SEQUENCE_LEN\n",
        ")\n",
        "valid_dataset = Twitter(\n",
        "    valid_df,w2v_model,SEQUENCE_LEN\n",
        ")\n"
      ]
    },
    {
      "cell_type": "code",
      "source": [
        "print(f\"Train dataset length: {len(train_dataset)}\")\n",
        "print(f\"Valid dataset length: {len(valid_dataset)}\")"
      ],
      "metadata": {
        "colab": {
          "base_uri": "https://localhost:8080/"
        },
        "id": "DuDcfgoTw5hA",
        "outputId": "4eabc159-c291-4af0-e788-90b37ab0de14"
      },
      "id": "DuDcfgoTw5hA",
      "execution_count": 31,
      "outputs": [
        {
          "metadata": {
            "tags": null
          },
          "name": "stdout",
          "output_type": "stream",
          "text": [
            "Train dataset length: 6817\n",
            "Valid dataset length: 2271\n"
          ]
        }
      ]
    },
    {
      "cell_type": "markdown",
      "id": "fd1da733e79676ff",
      "metadata": {
        "collapsed": false,
        "id": "fd1da733e79676ff"
      },
      "source": [
        "## Model and Train"
      ]
    },
    {
      "cell_type": "markdown",
      "source": [
        "### Training"
      ],
      "metadata": {
        "id": "-XhOZ_qwF6Bh"
      },
      "id": "-XhOZ_qwF6Bh"
    },
    {
      "cell_type": "code",
      "execution_count": 33,
      "id": "76d30ba6554b6c48",
      "metadata": {
        "id": "76d30ba6554b6c48"
      },
      "outputs": [],
      "source": [
        "# TODO: instantiate your model here\n",
        "model = CNN()"
      ]
    },
    {
      "cell_type": "code",
      "execution_count": 34,
      "id": "a57ddcb0836683ec",
      "metadata": {
        "id": "a57ddcb0836683ec",
        "colab": {
          "base_uri": "https://localhost:8080/"
        },
        "outputId": "6f23641d-0d22-49cb-f6cc-22a89f02a10d"
      },
      "outputs": [
        {
          "output_type": "stream",
          "name": "stderr",
          "text": []
        }
      ],
      "source": [
        "cnn_model_train_history = train_model( # TODO: train your model\n",
        "    model,BATCH_SIZE,nn.CrossEntropyLoss(),torch.optim.Adam(model.parameters(), lr=LEARNING_RATE),EPOCHS,train_dataset,valid_dataset,DEVICE\n",
        ")"
      ]
    },
    {
      "cell_type": "code",
      "execution_count": 35,
      "id": "ac375ced89f224ce",
      "metadata": {
        "id": "ac375ced89f224ce",
        "colab": {
          "base_uri": "https://localhost:8080/",
          "height": 467
        },
        "outputId": "f0b7092f-3e25-4869-e42f-70d67fcb53d6"
      },
      "outputs": [
        {
          "output_type": "display_data",
          "data": {
            "text/plain": [
              "<Figure size 1000x500 with 2 Axes>"
            ],
            "image/png": "[encoded data removed]"
          },
          "metadata": {}
        }
      ],
      "source": [
        "trend_plot_helper(\n",
        "    {\n",
        "        \"Accuracy - Epoch\": [\n",
        "            (\"Train Acc\", cnn_model_train_history[\"train_acc\"]),\n",
        "            (\"Validation Acc\", cnn_model_train_history[\"valid_acc\"]),\n",
        "        ],\n",
        "        \"Loss - Epoch\": [\n",
        "            (\"Train Loss\", cnn_model_train_history[\"train_loss\"]),\n",
        "            (\"Validation Loss\", cnn_model_train_history[\"valid_loss\"])\n",
        "        ]\n",
        "    }\n",
        ")"
      ]
    },
    {
      "cell_type": "code",
      "execution_count": 37,
      "id": "a09473d5783fa70f",
      "metadata": {
        "id": "a09473d5783fa70f",
        "colab": {
          "base_uri": "https://localhost:8080/",
          "height": 914
        },
        "outputId": "65dd2e53-a354-4371-f225-3db0a71476ef"
      },
      "outputs": [
        {
          "output_type": "stream",
          "name": "stderr",
          "text": []
        },
        {
          "output_type": "display_data",
          "data": {
            "text/plain": [
              "<Figure size 1000x1000 with 1 Axes>"
            ],
            "image/png": "[encoded data removed]"
          },
          "metadata": {}
        }
      ],
      "source": [
        "cnn_model_report = generate_confusion_matrix(\n",
        "    model=model,\n",
        "    dataset=valid_dataset,\n",
        ")"
      ]
    },
    {
      "cell_type": "code",
      "execution_count": 38,
      "id": "8ee01e4607601dd8",
      "metadata": {
        "id": "8ee01e4607601dd8",
        "colab": {
          "base_uri": "https://localhost:8080/"
        },
        "outputId": "c717d320-8736-4a78-c71e-fc66d101992d"
      },
      "outputs": [
        {
          "output_type": "stream",
          "name": "stdout",
          "text": [
            "Recall:    0.914\n",
            "F1:        0.914\n",
            "Precision: 0.913\n",
            "              precision    recall  f1-score   support\n",
            "\n",
            "           0       0.93      0.92      0.92      1263\n",
            "           1       0.90      0.91      0.90      1008\n",
            "\n",
            "    accuracy                           0.91      2271\n",
            "   macro avg       0.91      0.91      0.91      2271\n",
            "weighted avg       0.91      0.91      0.91      2271\n",
            "\n"
          ]
        }
      ],
      "source": [
        "print(f\"Recall:    {cnn_model_report['recall']:.3f}\")\n",
        "print(f\"F1:        {cnn_model_report['f1']:.3f}\")\n",
        "print(f\"Precision: {cnn_model_report['precision']:.3f}\")\n",
        "print(cnn_model_report['report'])"
      ]
    },
    {
      "cell_type": "markdown",
      "source": [
        "# With dropout and batch normalization layers\n"
      ],
      "metadata": {
        "id": "CsyOlCOPV5nK"
      },
      "id": "CsyOlCOPV5nK"
    },
    {
      "cell_type": "markdown",
      "metadata": {
        "collapsed": false,
        "id": "50YECg5CU847"
      },
      "source": [
        "## Model and Train"
      ],
      "id": "50YECg5CU847"
    },
    {
      "cell_type": "markdown",
      "metadata": {
        "collapsed": false,
        "id": "W0SLrtWHU847"
      },
      "source": [
        "### Model's Network"
      ],
      "id": "W0SLrtWHU847"
    },
    {
      "cell_type": "code",
      "execution_count": 55,
      "metadata": {
        "id": "9ZzBCLSWU847"
      },
      "outputs": [],
      "source": [
        "class CNN(nn.Module):\n",
        "    def __init__(self): # TODO: define your args here\n",
        "        super(CNN, self).__init__()\n",
        "\n",
        "        # TODO: define you network's layers here\n",
        "        self.conv1_k3 = nn.Conv1d(in_channels=300, out_channels=64, kernel_size=3, padding=1)\n",
        "        self.conv1_k5 = nn.Conv1d(in_channels=300, out_channels=64, kernel_size=5, padding=2)\n",
        "        self.conv1_k7 = nn.Conv1d(in_channels=300, out_channels=64, kernel_size=7, padding=3)\n",
        "        self.bn1_k3 = nn.BatchNorm1d(64)\n",
        "        self.bn1_k5 = nn.BatchNorm1d(64)\n",
        "        self.bn1_k7 = nn.BatchNorm1d(64)\n",
        "        self.conv2_k3 = nn.Conv1d(in_channels=64, out_channels=128, kernel_size=3, padding=1)\n",
        "        self.conv2_k5 = nn.Conv1d(in_channels=64, out_channels=128, kernel_size=5, padding=2)\n",
        "        self.conv2_k7 = nn.Conv1d(in_channels=64, out_channels=128, kernel_size=7, padding=3)\n",
        "        self.bn2_k3 = nn.BatchNorm1d(128)\n",
        "        self.bn2_k5 = nn.BatchNorm1d(128)\n",
        "        self.bn2_k7 = nn.BatchNorm1d(128)\n",
        "        self.dropout = nn.Dropout(p=0.5)\n",
        "        self.fc1 = nn.Linear(3 * 128, 128)\n",
        "        self.bn_fc1 = nn.BatchNorm1d(128)\n",
        "        self.fc2 = nn.Linear(128, 2)\n",
        "    def forward(self, x):\n",
        "\n",
        "        # TODO: implement forward pass here\n",
        "        x1 = F.relu(self.bn1_k3(self.conv1_k3(x)))\n",
        "        x2 = F.relu(self.bn1_k5(self.conv1_k5(x)))\n",
        "        x3 = F.relu(self.bn1_k7(self.conv1_k7(x)))\n",
        "        y1 = F.relu(self.bn2_k3(self.conv2_k3(x1)))\n",
        "        y2 = F.relu(self.bn2_k5(self.conv2_k5(x2)))\n",
        "        y3 = F.relu(self.bn2_k7(self.conv2_k7(x3)))\n",
        "        y1 = torch.max(y1, dim=2).values\n",
        "        y2 = torch.max(y2, dim=2).values\n",
        "        y3 = torch.max(y3, dim=2).values\n",
        "        y = torch.cat([y1, y2, y3], dim=1)\n",
        "        y = self.dropout(F.relu(self.bn_fc1(self.fc1(y))))\n",
        "        y = self.fc2(y)\n",
        "        return y"
      ],
      "id": "9ZzBCLSWU847"
    },
    {
      "cell_type": "markdown",
      "source": [
        "### Training"
      ],
      "metadata": {
        "id": "9qx351pVU848"
      },
      "id": "9qx351pVU848"
    },
    {
      "cell_type": "code",
      "execution_count": 56,
      "metadata": {
        "id": "mGvwp8HIU848"
      },
      "outputs": [],
      "source": [
        "# TODO: instantiate your model here\n",
        "model = CNN()"
      ],
      "id": "mGvwp8HIU848"
    },
    {
      "cell_type": "code",
      "execution_count": 57,
      "metadata": {
        "colab": {
          "base_uri": "https://localhost:8080/"
        },
        "outputId": "fe3fe131-170e-44b7-c9f8-8c6e0a3d1cc2",
        "id": "yGA0QoWSU848"
      },
      "outputs": [
        {
          "output_type": "stream",
          "name": "stderr",
          "text": []
        }
      ],
      "source": [
        "cnn_model_train_history = train_model( # TODO: train your model\n",
        "    model,BATCH_SIZE,nn.CrossEntropyLoss(),torch.optim.Adam(model.parameters(), lr=LEARNING_RATE),EPOCHS,train_dataset,valid_dataset,DEVICE\n",
        ")"
      ],
      "id": "yGA0QoWSU848"
    },
    {
      "cell_type": "code",
      "execution_count": 58,
      "metadata": {
        "colab": {
          "base_uri": "https://localhost:8080/",
          "height": 467
        },
        "outputId": "a45e6390-7460-470d-ad23-0637e180b928",
        "id": "rzuqURi7U848"
      },
      "outputs": [
        {
          "output_type": "display_data",
          "data": {
            "text/plain": [
              "<Figure size 1000x500 with 2 Axes>"
            ],
            "image/png": "[encoded data removed]"
          },
          "metadata": {}
        }
      ],
      "source": [
        "trend_plot_helper(\n",
        "    {\n",
        "        \"Accuracy - Epoch\": [\n",
        "            (\"Train Acc\", cnn_model_train_history[\"train_acc\"]),\n",
        "            (\"Validation Acc\", cnn_model_train_history[\"valid_acc\"]),\n",
        "        ],\n",
        "        \"Loss - Epoch\": [\n",
        "            (\"Train Loss\", cnn_model_train_history[\"train_loss\"]),\n",
        "            (\"Validation Loss\", cnn_model_train_history[\"valid_loss\"])\n",
        "        ]\n",
        "    }\n",
        ")"
      ],
      "id": "rzuqURi7U848"
    },
    {
      "cell_type": "code",
      "execution_count": 59,
      "metadata": {
        "colab": {
          "base_uri": "https://localhost:8080/",
          "height": 914
        },
        "outputId": "abfaaa0a-761f-470d-f65e-93df009fc2e8",
        "id": "CPY7bOuGU848"
      },
      "outputs": [
        {
          "output_type": "stream",
          "name": "stderr",
          "text": []
        },
        {
          "output_type": "display_data",
          "data": {
            "text/plain": [
              "<Figure size 1000x1000 with 1 Axes>"
            ],
            "image/png": "[encoded data removed]"
          },
          "metadata": {}
        }
      ],
      "source": [
        "cnn_model_report = generate_confusion_matrix(\n",
        "    model=model,\n",
        "    dataset=valid_dataset,\n",
        ")"
      ],
      "id": "CPY7bOuGU848"
    },
    {
      "cell_type": "code",
      "execution_count": 60,
      "metadata": {
        "colab": {
          "base_uri": "https://localhost:8080/"
        },
        "outputId": "b0cd0e39-bc77-4350-8449-e46bb6d449c1",
        "id": "tibilhdUU848"
      },
      "outputs": [
        {
          "output_type": "stream",
          "name": "stdout",
          "text": [
            "Recall:    0.906\n",
            "F1:        0.902\n",
            "Precision: 0.901\n",
            "              precision    recall  f1-score   support\n",
            "\n",
            "           0       0.95      0.87      0.91      1263\n",
            "           1       0.86      0.94      0.89      1008\n",
            "\n",
            "    accuracy                           0.90      2271\n",
            "   macro avg       0.90      0.91      0.90      2271\n",
            "weighted avg       0.91      0.90      0.90      2271\n",
            "\n"
          ]
        }
      ],
      "source": [
        "print(f\"Recall:    {cnn_model_report['recall']:.3f}\")\n",
        "print(f\"F1:        {cnn_model_report['f1']:.3f}\")\n",
        "print(f\"Precision: {cnn_model_report['precision']:.3f}\")\n",
        "print(cnn_model_report['report'])"
      ],
      "id": "tibilhdUU848"
    }
  ],
  "metadata": {
    "accelerator": "GPU",
    "colab": {
      "gpuType": "T4",
      "provenance": [],
      "collapsed_sections": [
        "xK74MCfGRu7H",
        "cf946d026ed2d98e",
        "4b87e7e8b267a1c8"
      ]
    },
    "kernelspec": {
      "display_name": "Python 3",
      "name": "python3"
    },
    "language_info": {
      "codemirror_mode": {
        "name": "ipython",
        "version": 2
      },
      "file_extension": ".py",
      "mimetype": "text/x-python",
      "name": "python",
      "nbconvert_exporter": "python",
      "pygments_lexer": "ipython2",
      "version": "2.7.6"
    }
  },
  "nbformat": 4,
  "nbformat_minor": 5
}